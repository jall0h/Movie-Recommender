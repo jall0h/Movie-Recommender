{
 "cells": [
  {
   "cell_type": "code",
   "execution_count": 1,
   "metadata": {},
   "outputs": [],
   "source": [
    "import pandas as pd"
   ]
  },
  {
   "cell_type": "code",
   "execution_count": 2,
   "metadata": {},
   "outputs": [],
   "source": [
    "content = pd.read_csv(\"content.csv\", index_col=0)"
   ]
  },
  {
   "cell_type": "code",
   "execution_count": 3,
   "metadata": {
    "scrolled": true
   },
   "outputs": [
    {
     "data": {
      "text/html": [
       "<div>\n",
       "<style scoped>\n",
       "    .dataframe tbody tr th:only-of-type {\n",
       "        vertical-align: middle;\n",
       "    }\n",
       "\n",
       "    .dataframe tbody tr th {\n",
       "        vertical-align: top;\n",
       "    }\n",
       "\n",
       "    .dataframe thead th {\n",
       "        text-align: right;\n",
       "    }\n",
       "</style>\n",
       "<table border=\"1\" class=\"dataframe\">\n",
       "  <thead>\n",
       "    <tr style=\"text-align: right;\">\n",
       "      <th></th>\n",
       "      <th>Title</th>\n",
       "      <th>Description</th>\n",
       "      <th>IMdb_rating</th>\n",
       "      <th>Director</th>\n",
       "      <th>Genres</th>\n",
       "      <th>Img_url</th>\n",
       "      <th>Writers</th>\n",
       "      <th>Cast</th>\n",
       "      <th>IMdb_link</th>\n",
       "    </tr>\n",
       "  </thead>\n",
       "  <tbody>\n",
       "    <tr>\n",
       "      <th>0</th>\n",
       "      <td>The Shawshank Redemption</td>\n",
       "      <td>Over the course of several years, two convicts...</td>\n",
       "      <td>9.3</td>\n",
       "      <td>139</td>\n",
       "      <td>[18]</td>\n",
       "      <td>https://m.media-amazon.com/images/M/MV5BNDE3OD...</td>\n",
       "      <td>[441, 444]</td>\n",
       "      <td>[432, 347, 537]</td>\n",
       "      <td>/title/tt0111161/?ref_=chttp_t_1</td>\n",
       "    </tr>\n",
       "    <tr>\n",
       "      <th>1</th>\n",
       "      <td>The Godfather</td>\n",
       "      <td>Don Vito Corleone, head of a mafia family, dec...</td>\n",
       "      <td>9.2</td>\n",
       "      <td>151</td>\n",
       "      <td>[12, 18]</td>\n",
       "      <td>https://m.media-amazon.com/images/M/MV5BM2MyNj...</td>\n",
       "      <td>[68, 221]</td>\n",
       "      <td>[361, 279, 382]</td>\n",
       "      <td>/title/tt0068646/?ref_=chttp_t_2</td>\n",
       "    </tr>\n",
       "    <tr>\n",
       "      <th>2</th>\n",
       "      <td>The Dark Knight</td>\n",
       "      <td>When the menace known as the Joker wreaks havo...</td>\n",
       "      <td>9.0</td>\n",
       "      <td>121</td>\n",
       "      <td>[6, 12, 18]</td>\n",
       "      <td>https://m.media-amazon.com/images/M/MV5BMTMxNT...</td>\n",
       "      <td>[39, 27, 184]</td>\n",
       "      <td>[387, 68, 201]</td>\n",
       "      <td>/title/tt0468569/?ref_=chttp_t_3</td>\n",
       "    </tr>\n",
       "    <tr>\n",
       "      <th>3</th>\n",
       "      <td>The Godfather Part II</td>\n",
       "      <td>The early life and career of Vito Corleone in ...</td>\n",
       "      <td>9.0</td>\n",
       "      <td>151</td>\n",
       "      <td>[12, 18]</td>\n",
       "      <td>https://m.media-amazon.com/images/M/MV5BMWMwMG...</td>\n",
       "      <td>[465, 65]</td>\n",
       "      <td>[279, 365, 19]</td>\n",
       "      <td>/title/tt0071562/?ref_=chttp_t_4</td>\n",
       "    </tr>\n",
       "    <tr>\n",
       "      <th>4</th>\n",
       "      <td>12 Angry Men</td>\n",
       "      <td>The jury in a New York City murder trial is fr...</td>\n",
       "      <td>9.0</td>\n",
       "      <td>43</td>\n",
       "      <td>[12, 18]</td>\n",
       "      <td>https://m.media-amazon.com/images/M/MV5BMWU4N2...</td>\n",
       "      <td>[93]</td>\n",
       "      <td>[546, 386, 175]</td>\n",
       "      <td>/title/tt0050083/?ref_=chttp_t_5</td>\n",
       "    </tr>\n",
       "  </tbody>\n",
       "</table>\n",
       "</div>"
      ],
      "text/plain": [
       "                      Title  \\\n",
       "0  The Shawshank Redemption   \n",
       "1             The Godfather   \n",
       "2           The Dark Knight   \n",
       "3     The Godfather Part II   \n",
       "4              12 Angry Men   \n",
       "\n",
       "                                         Description  IMdb_rating  Director  \\\n",
       "0  Over the course of several years, two convicts...          9.3       139   \n",
       "1  Don Vito Corleone, head of a mafia family, dec...          9.2       151   \n",
       "2  When the menace known as the Joker wreaks havo...          9.0       121   \n",
       "3  The early life and career of Vito Corleone in ...          9.0       151   \n",
       "4  The jury in a New York City murder trial is fr...          9.0        43   \n",
       "\n",
       "        Genres                                            Img_url  \\\n",
       "0         [18]  https://m.media-amazon.com/images/M/MV5BNDE3OD...   \n",
       "1     [12, 18]  https://m.media-amazon.com/images/M/MV5BM2MyNj...   \n",
       "2  [6, 12, 18]  https://m.media-amazon.com/images/M/MV5BMTMxNT...   \n",
       "3     [12, 18]  https://m.media-amazon.com/images/M/MV5BMWMwMG...   \n",
       "4     [12, 18]  https://m.media-amazon.com/images/M/MV5BMWU4N2...   \n",
       "\n",
       "         Writers             Cast                         IMdb_link  \n",
       "0     [441, 444]  [432, 347, 537]  /title/tt0111161/?ref_=chttp_t_1  \n",
       "1      [68, 221]  [361, 279, 382]  /title/tt0068646/?ref_=chttp_t_2  \n",
       "2  [39, 27, 184]   [387, 68, 201]  /title/tt0468569/?ref_=chttp_t_3  \n",
       "3      [465, 65]   [279, 365, 19]  /title/tt0071562/?ref_=chttp_t_4  \n",
       "4           [93]  [546, 386, 175]  /title/tt0050083/?ref_=chttp_t_5  "
      ]
     },
     "execution_count": 3,
     "metadata": {},
     "output_type": "execute_result"
    }
   ],
   "source": [
    "content.head()"
   ]
  },
  {
   "cell_type": "code",
   "execution_count": 4,
   "metadata": {},
   "outputs": [
    {
     "data": {
      "text/plain": [
       "Title           object\n",
       "Description     object\n",
       "IMdb_rating    float64\n",
       "Director         int64\n",
       "Genres          object\n",
       "Img_url         object\n",
       "Writers         object\n",
       "Cast            object\n",
       "IMdb_link       object\n",
       "dtype: object"
      ]
     },
     "execution_count": 4,
     "metadata": {},
     "output_type": "execute_result"
    }
   ],
   "source": [
    "content.dtypes"
   ]
  },
  {
   "cell_type": "code",
   "execution_count": 5,
   "metadata": {},
   "outputs": [],
   "source": [
    "del content[\"Img_url\"]"
   ]
  },
  {
   "cell_type": "code",
   "execution_count": 6,
   "metadata": {},
   "outputs": [],
   "source": [
    "del content[\"IMdb_link\"]\n",
    "del content[\"Director\"]"
   ]
  },
  {
   "cell_type": "code",
   "execution_count": 7,
   "metadata": {},
   "outputs": [
    {
     "data": {
      "text/plain": [
       "Title           object\n",
       "Description     object\n",
       "IMdb_rating    float64\n",
       "Genres          object\n",
       "Writers         object\n",
       "Cast            object\n",
       "dtype: object"
      ]
     },
     "execution_count": 7,
     "metadata": {},
     "output_type": "execute_result"
    }
   ],
   "source": [
    "content.dtypes"
   ]
  },
  {
   "cell_type": "code",
   "execution_count": 8,
   "metadata": {},
   "outputs": [],
   "source": [
    "import json"
   ]
  },
  {
   "cell_type": "code",
   "execution_count": 9,
   "metadata": {},
   "outputs": [],
   "source": [
    "del content[\"Description\"]"
   ]
  },
  {
   "cell_type": "code",
   "execution_count": 10,
   "metadata": {},
   "outputs": [
    {
     "data": {
      "text/html": [
       "<div>\n",
       "<style scoped>\n",
       "    .dataframe tbody tr th:only-of-type {\n",
       "        vertical-align: middle;\n",
       "    }\n",
       "\n",
       "    .dataframe tbody tr th {\n",
       "        vertical-align: top;\n",
       "    }\n",
       "\n",
       "    .dataframe thead th {\n",
       "        text-align: right;\n",
       "    }\n",
       "</style>\n",
       "<table border=\"1\" class=\"dataframe\">\n",
       "  <thead>\n",
       "    <tr style=\"text-align: right;\">\n",
       "      <th></th>\n",
       "      <th>Title</th>\n",
       "      <th>IMdb_rating</th>\n",
       "      <th>Genres</th>\n",
       "      <th>Writers</th>\n",
       "      <th>Cast</th>\n",
       "    </tr>\n",
       "  </thead>\n",
       "  <tbody>\n",
       "    <tr>\n",
       "      <th>0</th>\n",
       "      <td>The Shawshank Redemption</td>\n",
       "      <td>9.3</td>\n",
       "      <td>[18]</td>\n",
       "      <td>[441, 444]</td>\n",
       "      <td>[432, 347, 537]</td>\n",
       "    </tr>\n",
       "    <tr>\n",
       "      <th>1</th>\n",
       "      <td>The Godfather</td>\n",
       "      <td>9.2</td>\n",
       "      <td>[12, 18]</td>\n",
       "      <td>[68, 221]</td>\n",
       "      <td>[361, 279, 382]</td>\n",
       "    </tr>\n",
       "    <tr>\n",
       "      <th>2</th>\n",
       "      <td>The Dark Knight</td>\n",
       "      <td>9.0</td>\n",
       "      <td>[6, 12, 18]</td>\n",
       "      <td>[39, 27, 184]</td>\n",
       "      <td>[387, 68, 201]</td>\n",
       "    </tr>\n",
       "    <tr>\n",
       "      <th>3</th>\n",
       "      <td>The Godfather Part II</td>\n",
       "      <td>9.0</td>\n",
       "      <td>[12, 18]</td>\n",
       "      <td>[465, 65]</td>\n",
       "      <td>[279, 365, 19]</td>\n",
       "    </tr>\n",
       "    <tr>\n",
       "      <th>4</th>\n",
       "      <td>12 Angry Men</td>\n",
       "      <td>9.0</td>\n",
       "      <td>[12, 18]</td>\n",
       "      <td>[93]</td>\n",
       "      <td>[546, 386, 175]</td>\n",
       "    </tr>\n",
       "  </tbody>\n",
       "</table>\n",
       "</div>"
      ],
      "text/plain": [
       "                      Title  IMdb_rating       Genres        Writers  \\\n",
       "0  The Shawshank Redemption          9.3         [18]     [441, 444]   \n",
       "1             The Godfather          9.2     [12, 18]      [68, 221]   \n",
       "2           The Dark Knight          9.0  [6, 12, 18]  [39, 27, 184]   \n",
       "3     The Godfather Part II          9.0     [12, 18]      [465, 65]   \n",
       "4              12 Angry Men          9.0     [12, 18]           [93]   \n",
       "\n",
       "              Cast  \n",
       "0  [432, 347, 537]  \n",
       "1  [361, 279, 382]  \n",
       "2   [387, 68, 201]  \n",
       "3   [279, 365, 19]  \n",
       "4  [546, 386, 175]  "
      ]
     },
     "execution_count": 10,
     "metadata": {},
     "output_type": "execute_result"
    }
   ],
   "source": [
    "content.head()"
   ]
  },
  {
   "cell_type": "code",
   "execution_count": 11,
   "metadata": {},
   "outputs": [],
   "source": [
    "content[\"Genres\"] = content[\"Genres\"].apply(json.loads)\n",
    "del content[\"Writers\"]\n",
    "del content[\"Cast\"]"
   ]
  },
  {
   "cell_type": "code",
   "execution_count": 12,
   "metadata": {},
   "outputs": [],
   "source": [
    "from sklearn.neighbors import NearestNeighbors\n",
    "from sklearn.preprocessing import MultiLabelBinarizer"
   ]
  },
  {
   "cell_type": "code",
   "execution_count": 13,
   "metadata": {},
   "outputs": [],
   "source": [
    "mlb = MultiLabelBinarizer()\n",
    "mlb_transform = pd.DataFrame(mlb.fit_transform(content['Genres']), columns=mlb.classes_)"
   ]
  },
  {
   "cell_type": "code",
   "execution_count": 14,
   "metadata": {},
   "outputs": [
    {
     "data": {
      "text/html": [
       "<div>\n",
       "<style scoped>\n",
       "    .dataframe tbody tr th:only-of-type {\n",
       "        vertical-align: middle;\n",
       "    }\n",
       "\n",
       "    .dataframe tbody tr th {\n",
       "        vertical-align: top;\n",
       "    }\n",
       "\n",
       "    .dataframe thead th {\n",
       "        text-align: right;\n",
       "    }\n",
       "</style>\n",
       "<table border=\"1\" class=\"dataframe\">\n",
       "  <thead>\n",
       "    <tr style=\"text-align: right;\">\n",
       "      <th></th>\n",
       "      <th>IMdb_rating</th>\n",
       "      <th>0</th>\n",
       "      <th>1</th>\n",
       "      <th>2</th>\n",
       "      <th>3</th>\n",
       "      <th>4</th>\n",
       "      <th>5</th>\n",
       "      <th>6</th>\n",
       "      <th>7</th>\n",
       "      <th>8</th>\n",
       "      <th>...</th>\n",
       "      <th>11</th>\n",
       "      <th>12</th>\n",
       "      <th>13</th>\n",
       "      <th>14</th>\n",
       "      <th>15</th>\n",
       "      <th>16</th>\n",
       "      <th>17</th>\n",
       "      <th>18</th>\n",
       "      <th>19</th>\n",
       "      <th>20</th>\n",
       "    </tr>\n",
       "  </thead>\n",
       "  <tbody>\n",
       "    <tr>\n",
       "      <th>0</th>\n",
       "      <td>9.3</td>\n",
       "      <td>0</td>\n",
       "      <td>0</td>\n",
       "      <td>0</td>\n",
       "      <td>0</td>\n",
       "      <td>0</td>\n",
       "      <td>0</td>\n",
       "      <td>0</td>\n",
       "      <td>0</td>\n",
       "      <td>0</td>\n",
       "      <td>...</td>\n",
       "      <td>0</td>\n",
       "      <td>0</td>\n",
       "      <td>0</td>\n",
       "      <td>0</td>\n",
       "      <td>0</td>\n",
       "      <td>0</td>\n",
       "      <td>0</td>\n",
       "      <td>1</td>\n",
       "      <td>0</td>\n",
       "      <td>0</td>\n",
       "    </tr>\n",
       "    <tr>\n",
       "      <th>1</th>\n",
       "      <td>9.2</td>\n",
       "      <td>0</td>\n",
       "      <td>0</td>\n",
       "      <td>0</td>\n",
       "      <td>0</td>\n",
       "      <td>0</td>\n",
       "      <td>0</td>\n",
       "      <td>0</td>\n",
       "      <td>0</td>\n",
       "      <td>0</td>\n",
       "      <td>...</td>\n",
       "      <td>0</td>\n",
       "      <td>1</td>\n",
       "      <td>0</td>\n",
       "      <td>0</td>\n",
       "      <td>0</td>\n",
       "      <td>0</td>\n",
       "      <td>0</td>\n",
       "      <td>1</td>\n",
       "      <td>0</td>\n",
       "      <td>0</td>\n",
       "    </tr>\n",
       "    <tr>\n",
       "      <th>2</th>\n",
       "      <td>9.0</td>\n",
       "      <td>0</td>\n",
       "      <td>0</td>\n",
       "      <td>0</td>\n",
       "      <td>0</td>\n",
       "      <td>0</td>\n",
       "      <td>0</td>\n",
       "      <td>1</td>\n",
       "      <td>0</td>\n",
       "      <td>0</td>\n",
       "      <td>...</td>\n",
       "      <td>0</td>\n",
       "      <td>1</td>\n",
       "      <td>0</td>\n",
       "      <td>0</td>\n",
       "      <td>0</td>\n",
       "      <td>0</td>\n",
       "      <td>0</td>\n",
       "      <td>1</td>\n",
       "      <td>0</td>\n",
       "      <td>0</td>\n",
       "    </tr>\n",
       "    <tr>\n",
       "      <th>3</th>\n",
       "      <td>9.0</td>\n",
       "      <td>0</td>\n",
       "      <td>0</td>\n",
       "      <td>0</td>\n",
       "      <td>0</td>\n",
       "      <td>0</td>\n",
       "      <td>0</td>\n",
       "      <td>0</td>\n",
       "      <td>0</td>\n",
       "      <td>0</td>\n",
       "      <td>...</td>\n",
       "      <td>0</td>\n",
       "      <td>1</td>\n",
       "      <td>0</td>\n",
       "      <td>0</td>\n",
       "      <td>0</td>\n",
       "      <td>0</td>\n",
       "      <td>0</td>\n",
       "      <td>1</td>\n",
       "      <td>0</td>\n",
       "      <td>0</td>\n",
       "    </tr>\n",
       "    <tr>\n",
       "      <th>4</th>\n",
       "      <td>9.0</td>\n",
       "      <td>0</td>\n",
       "      <td>0</td>\n",
       "      <td>0</td>\n",
       "      <td>0</td>\n",
       "      <td>0</td>\n",
       "      <td>0</td>\n",
       "      <td>0</td>\n",
       "      <td>0</td>\n",
       "      <td>0</td>\n",
       "      <td>...</td>\n",
       "      <td>0</td>\n",
       "      <td>1</td>\n",
       "      <td>0</td>\n",
       "      <td>0</td>\n",
       "      <td>0</td>\n",
       "      <td>0</td>\n",
       "      <td>0</td>\n",
       "      <td>1</td>\n",
       "      <td>0</td>\n",
       "      <td>0</td>\n",
       "    </tr>\n",
       "  </tbody>\n",
       "</table>\n",
       "<p>5 rows × 22 columns</p>\n",
       "</div>"
      ],
      "text/plain": [
       "   IMdb_rating  0  1  2  3  4  5  6  7  8  ...  11  12  13  14  15  16  17  \\\n",
       "0          9.3  0  0  0  0  0  0  0  0  0  ...   0   0   0   0   0   0   0   \n",
       "1          9.2  0  0  0  0  0  0  0  0  0  ...   0   1   0   0   0   0   0   \n",
       "2          9.0  0  0  0  0  0  0  1  0  0  ...   0   1   0   0   0   0   0   \n",
       "3          9.0  0  0  0  0  0  0  0  0  0  ...   0   1   0   0   0   0   0   \n",
       "4          9.0  0  0  0  0  0  0  0  0  0  ...   0   1   0   0   0   0   0   \n",
       "\n",
       "   18  19  20  \n",
       "0   1   0   0  \n",
       "1   1   0   0  \n",
       "2   1   0   0  \n",
       "3   1   0   0  \n",
       "4   1   0   0  \n",
       "\n",
       "[5 rows x 22 columns]"
      ]
     },
     "execution_count": 14,
     "metadata": {},
     "output_type": "execute_result"
    }
   ],
   "source": [
    "features = ['IMdb_rating']\n",
    "X = pd.concat([content[features],mlb_transform],axis=1)\n",
    "X.columns = X.columns.astype(str)\n",
    "X.head()"
   ]
  },
  {
   "cell_type": "code",
   "execution_count": 15,
   "metadata": {},
   "outputs": [],
   "source": [
    "n = NearestNeighbors(n_neighbors=5, algorithm=\"brute\").fit(X)"
   ]
  },
  {
   "cell_type": "code",
   "execution_count": 16,
   "metadata": {},
   "outputs": [],
   "source": [
    "def show_similar_movies(movie_id):\n",
    "    distances, movie_ids = n.kneighbors([X.iloc[movie_id]])\n",
    "    print(f\"Here are similar movies to {content.iloc[movie_id][\"Title\"]}\")\n",
    "    for i in range(len(movie_ids)):\n",
    "        print(content.iloc[movie_ids[i][1:]])"
   ]
  },
  {
   "cell_type": "code",
   "execution_count": 20,
   "metadata": {},
   "outputs": [
    {
     "name": "stdout",
     "output_type": "stream",
     "text": [
      "Here are similar movies to Spider-Man: Across the Spider-Verse\n",
      "                                                 Title  IMdb_rating  \\\n",
      "64                   Spider-Man: Into the Spider-Verse          8.4   \n",
      "81                                   Princess Mononoke          8.3   \n",
      "249  Demon Slayer: Kimetsu no Yaiba - The Movie: Mu...          8.2   \n",
      "201                           How to Train Your Dragon          8.1   \n",
      "\n",
      "         Genres  \n",
      "64   [20, 6, 9]  \n",
      "81   [20, 6, 9]  \n",
      "249  [20, 6, 9]  \n",
      "201  [20, 6, 9]  \n"
     ]
    },
    {
     "name": "stderr",
     "output_type": "stream",
     "text": [
      "C:\\Users\\SSSha\\Desktop\\Projects\\Recommender\\venv\\Lib\\site-packages\\sklearn\\utils\\validation.py:2739: UserWarning: X does not have valid feature names, but NearestNeighbors was fitted with feature names\n",
      "  warnings.warn(\n"
     ]
    }
   ],
   "source": [
    "show_similar_movies(36)"
   ]
  },
  {
   "cell_type": "code",
   "execution_count": null,
   "metadata": {},
   "outputs": [],
   "source": []
  },
  {
   "cell_type": "code",
   "execution_count": null,
   "metadata": {},
   "outputs": [],
   "source": []
  }
 ],
 "metadata": {
  "kernelspec": {
   "display_name": "Python 3 (ipykernel)",
   "language": "python",
   "name": "python3"
  },
  "language_info": {
   "codemirror_mode": {
    "name": "ipython",
    "version": 3
   },
   "file_extension": ".py",
   "mimetype": "text/x-python",
   "name": "python",
   "nbconvert_exporter": "python",
   "pygments_lexer": "ipython3",
   "version": "3.13.1"
  }
 },
 "nbformat": 4,
 "nbformat_minor": 4
}
